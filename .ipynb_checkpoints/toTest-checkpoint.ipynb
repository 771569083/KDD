{
 "cells": [
  {
   "cell_type": "code",
   "execution_count": 2,
   "metadata": {},
   "outputs": [
    {
     "name": "stdout",
     "output_type": "stream",
     "text": [
      "[['s'], ['223e'], ['sdassd'], ['dscsd'], ['vvvv'], ['6']]\n"
     ]
    }
   ],
   "source": [
    "# -*- coding: UTF-8 -*-\n",
    "# @Author  : Wang Huanchen <11810419@mail.sustech.edu.cn>\n",
    "# @Time    : 2021/3/13 10:15\n",
    "import pandas as pd\n",
    "import chardet\n",
    "import os\n",
    "\n",
    "def parse_prerequisite(prerequisite):\n",
    "    '''Parse prerequisite\n",
    "\n",
    "    Example:\n",
    "        - (固体物理 或者 固体物理) 并且 量子力学II\n",
    "    '''\n",
    "    f = lambda x: list(set(filter(bool, map(str.strip, x))))\n",
    "    g = lambda x: x.replace('(', '').replace(')', '')\n",
    "    return [\n",
    "        f(g(part).split('或者'))\n",
    "        for part in prerequisite\n",
    "    ]\n",
    "\n",
    "\n",
    "a = [\"s\",\"223e\",\"sdassd\",\"dscsd\",\"vvvv\",\"6\"]\n",
    "\n",
    "print(parse_prerequisite(a))"
   ]
  },
  {
   "cell_type": "code",
   "execution_count": null,
   "metadata": {},
   "outputs": [],
   "source": []
  }
 ],
 "metadata": {
  "kernelspec": {
   "display_name": "Python 3",
   "language": "python",
   "name": "python3"
  },
  "language_info": {
   "codemirror_mode": {
    "name": "ipython",
    "version": 3
   },
   "file_extension": ".py",
   "mimetype": "text/x-python",
   "name": "python",
   "nbconvert_exporter": "python",
   "pygments_lexer": "ipython3",
   "version": "3.8.5"
  },
  "toc": {
   "base_numbering": 1,
   "nav_menu": {},
   "number_sections": true,
   "sideBar": true,
   "skip_h1_title": false,
   "title_cell": "Table of Contents",
   "title_sidebar": "Contents",
   "toc_cell": false,
   "toc_position": {},
   "toc_section_display": true,
   "toc_window_display": false
  }
 },
 "nbformat": 4,
 "nbformat_minor": 4
}
