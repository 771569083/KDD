{
 "cells": [
  {
   "cell_type": "code",
   "execution_count": 14,
   "metadata": {
    "scrolled": true
   },
   "outputs": [
    {
     "data": {
      "text/plain": [
       "<BarContainer object of 4 artists>"
      ]
     },
     "execution_count": 14,
     "metadata": {},
     "output_type": "execute_result"
    },
    {
     "data": {
      "image/png": "[encoded data removed]",
      "text/plain": [
       "<Figure size 432x288 with 1 Axes>"
      ]
     },
     "metadata": {
      "needs_background": "light"
     },
     "output_type": "display_data"
    }
   ],
   "source": [
    "import pandas as pd\n",
    "import matplotlib.pyplot as plt\n",
    "\n",
    "df = pd.read_csv('high_diamond_ranked_10min.csv')\n",
    "\n",
    "PT = 0\n",
    "PF = 0\n",
    "NT = 0\n",
    "NF = 0\n",
    "\n",
    "for i in range(0,len(df['blueWins'])):\n",
    "    if df['blueWins'].iloc[i] == 1:\n",
    "        if df['blueDragons'].iloc[i] ==1:\n",
    "            PT+=1\n",
    "        else:\n",
    "            PF+=1\n",
    "    if df['blueWins'].iloc[i] == 0:\n",
    "        if df['blueDragons'].iloc[i] ==1:\n",
    "            NT+=1\n",
    "        else:\n",
    "            NF+=1\n",
    "            \n",
    "win_rate_list = [PT/len(df['blueWins']),PF/len(df['blueWins']),NT/len(df['blueWins']),NF/len(df['blueWins'])]\n",
    "x = [0,1,2,3]\n",
    "plt.bar(x,height=win_rate_list, width=0.8)\n"
   ]
  }
 ],
 "metadata": {
  "kernelspec": {
   "display_name": "Python 3",
   "language": "python",
   "name": "python3"
  },
  "language_info": {
   "codemirror_mode": {
    "name": "ipython",
    "version": 3
   },
   "file_extension": ".py",
   "mimetype": "text/x-python",
   "name": "python",
   "nbconvert_exporter": "python",
   "pygments_lexer": "ipython3",
   "version": "3.8.5"
  },
  "toc": {
   "base_numbering": 1,
   "nav_menu": {},
   "number_sections": true,
   "sideBar": true,
   "skip_h1_title": false,
   "title_cell": "Table of Contents",
   "title_sidebar": "Contents",
   "toc_cell": false,
   "toc_position": {},
   "toc_section_display": true,
   "toc_window_display": false
  }
 },
 "nbformat": 4,
 "nbformat_minor": 4
}
