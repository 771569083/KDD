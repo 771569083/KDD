{
 "cells": [
  {
   "cell_type": "code",
   "execution_count": 11,
   "metadata": {},
   "outputs": [
    {
     "name": "stdout",
     "output_type": "stream",
     "text": [
      "TITLE: \n",
      "TITLE: \n",
      "TITLE: \n",
      "TITLE: \n",
      "TITLE: \n",
      "TITLE: \n",
      "TITLE: \n",
      "TITLE: \n",
      "TITLE: \n",
      "TITLE: \n",
      "TITLE: \n",
      "TITLE: \n",
      "TITLE: \n",
      "TITLE: \n",
      "TITLE: \n",
      "TITLE: \n",
      "TITLE: \n",
      "TITLE: \n",
      "TITLE: \n",
      "TITLE: \n",
      "TITLE: \n",
      "TITLE: \n",
      "TITLE: \n",
      "TITLE: \n",
      "TITLE: \n"
     ]
    }
   ],
   "source": [
    "from xml.dom.minidom import parse\n",
    "\n",
    "datasource = open('./cd.xml')\n",
    "DOMTree = parse(datasource)\n",
    "CATALOG = DOMTree.documentElement\n",
    "cds = CATALOG.getElementsByTagName(\"CD\")\n",
    "for cd in cds:\n",
    "    TITLE = cd.getElementsByTagName('TITLE')[0]\n",
    "    print(\"TITLE: %s\"%TITLE.getAttribute(\"TITLE\"))"
   ]
  },
  {
   "cell_type": "code",
   "execution_count": 10,
   "metadata": {},
   "outputs": [
    {
     "name": "stdout",
     "output_type": "stream",
     "text": [
      "<Element 'CATALOG' at 0x0000025593C669A0>\n",
      "TITLE:  Empire Burlesque\n",
      "TITLE:  Hide your heart\n",
      "TITLE:  Greatest Hits\n",
      "TITLE:  Still got the blues\n",
      "TITLE:  Eros\n",
      "TITLE:  One night only\n",
      "TITLE:  Sylvias Mother\n",
      "TITLE:  Maggie May\n",
      "TITLE:  Romanza\n",
      "TITLE:  When a man loves a woman\n",
      "TITLE:  Black angel\n",
      "TITLE:  1999 Grammy Nominees\n",
      "TITLE:  For the good times\n",
      "TITLE:  Big Willie style\n",
      "TITLE:  Tupelo Honey\n",
      "TITLE:  The very best of\n",
      "TITLE:  Stop\n",
      "TITLE:  Bridge of Spies\n",
      "TITLE:  Private Dancer\n",
      "TITLE:  Midt om natten\n",
      "TITLE:  Pavarotti Gala Concert\n",
      "TITLE:  The dock of the bay\n",
      "TITLE:  Picture book\n",
      "TITLE:  Red\n",
      "TITLE:  Unchain my heart\n"
     ]
    }
   ],
   "source": [
    "import xml.etree.ElementTree as ET\n",
    "tree = ET.ElementTree(file='./cd.xml')\n",
    "root = tree.getroot() #获取根节点\n",
    "print(root)\n",
    "for cd in root:\n",
    "    TITLE = cd.find('TITLE').text\n",
    "    print(\"TITLE: \",TITLE)"
   ]
  },
  {
   "cell_type": "code",
   "execution_count": 21,
   "metadata": {},
   "outputs": [
    {
     "name": "stdout",
     "output_type": "stream",
     "text": [
      "<Element 'CATALOG' at 0x0000025596E14630>\n"
     ]
    }
   ],
   "source": [
    "import pandas as pd \n",
    "\n",
    "tree = ET.ElementTree(file='./plant_catalog.xml')\n",
    "root = tree.getroot()\n",
    "print(root)\n",
    "common = []\n",
    "botanical = []\n",
    "zone = []\n",
    "light = []\n",
    "price = []\n",
    "availability = []\n",
    "for cd in root:\n",
    "    common.append(cd.find('COMMON').text.replace(',', ''))\n",
    "    botanical.append(cd.find('BOTANICAL').text)\n",
    "    zone.append(cd.find('ZONE').text)\n",
    "    light.append(cd.find('LIGHT').text)\n",
    "    price.append(cd.find('PRICE').text)\n",
    "    availability.append(cd.find('AVAILABILITY').text)\n",
    "d = {'common': common, 'botanical': botanical,'zone': zone, 'light': light, 'price': price, 'availability': availability}\n",
    "df = pd.DataFrame(data=d)\n",
    "df.to_csv('plant_catalog.csv', encoding='utf-8', index=False)"
   ]
  }
 ],
 "metadata": {
  "kernelspec": {
   "display_name": "Python 3",
   "language": "python",
   "name": "python3"
  },
  "language_info": {
   "codemirror_mode": {
    "name": "ipython",
    "version": 3
   },
   "file_extension": ".py",
   "mimetype": "text/x-python",
   "name": "python",
   "nbconvert_exporter": "python",
   "pygments_lexer": "ipython3",
   "version": "3.8.5"
  },
  "toc": {
   "base_numbering": 1,
   "nav_menu": {},
   "number_sections": true,
   "sideBar": true,
   "skip_h1_title": false,
   "title_cell": "Table of Contents",
   "title_sidebar": "Contents",
   "toc_cell": false,
   "toc_position": {},
   "toc_section_display": true,
   "toc_window_display": false
  }
 },
 "nbformat": 4,
 "nbformat_minor": 4
}
