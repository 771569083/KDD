{
 "cells": [
  {
   "cell_type": "code",
   "execution_count": null,
   "metadata": {},
   "outputs": [
    {
     "name": "stdout",
     "output_type": "stream",
     "text": [
      "1\n"
     ]
    }
   ],
   "source": [
    "from pyspark.sql import SparkSession\n",
    "import os\n",
    "os.environ['JAVA_HOME'] = 'C:/Program Files/Java'\n",
    "print(1)\n",
    "spark = SparkSession.builder.appName('My_App').master('Local').getOrCreate()\n",
    "df = spark.read.csv('iris.csv',header=True)\n",
    "df.printSchema()\n",
    "print(2)"
   ]
  },
  {
   "cell_type": "code",
   "execution_count": null,
   "metadata": {},
   "outputs": [],
   "source": [
    "# load module\n",
    "from pyspark import SparkContext, SparkConf, SQLContext\n",
    "from pyspark.sql import SparkSession, SQLContext\n",
    "from pyspark.sql import functions as F \n",
    "# add app name \n",
    "spark = SparkSession.builder.master(\"spark://ip:7077\").appName(\"anchor_usr_gold_info\").config(\"spark.some.config.option\", \"some-value\").getOrCreate()\n",
    "# set cond -- other by help --\n",
    "spark.conf.set(\"spark.sql.execution.arrow.enabled\", \"true\")\n",
    "# sc frame\n",
    "sc = spark.sparkContext\n",
    "# pandas df convert to spark data_sdf\n",
    "sqlContext = SQLContext(spark)\n",
    "data_rdd = sc.parallelize(list(range(5)))\n",
    "data_rdd.collect()"
   ]
  }
 ],
 "metadata": {
  "kernelspec": {
   "display_name": "Python 3",
   "language": "python",
   "name": "python3"
  },
  "toc": {
   "base_numbering": 1,
   "nav_menu": {},
   "number_sections": true,
   "sideBar": true,
   "skip_h1_title": false,
   "title_cell": "Table of Contents",
   "title_sidebar": "Contents",
   "toc_cell": false,
   "toc_position": {},
   "toc_section_display": true,
   "toc_window_display": false
  }
 },
 "nbformat": 4,
 "nbformat_minor": 4
}
